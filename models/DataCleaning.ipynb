{
 "cells": [
  {
   "cell_type": "code",
   "execution_count": 1,
   "metadata": {},
   "outputs": [],
   "source": [
    "import pandas as pd\n",
    "from scipy.sparse import csr_matrix\n",
    "beer = pd.read_csv('beer_reviews.csv')\n",
    "obscure_beers = ['Black & Tan', 'Chile Beer', 'Sahti', 'Fruit / Vegetable Beer', \n",
    "                 'Herbed / Spiced Beer', 'Happoshu', 'Low Alcohol Beer', 'Pumpkin Ale', \n",
    "                 'Kvass', 'Rye Beer', 'Smoked Beer', 'Scottish Gruit / Ancient Herbed Ale', \n",
    "                 'Braggot', 'Bière de Champagne / Bière Brut', 'Cream Ale', 'California Common / Steam Beer',\n",
    "                'Japanese Rice Lager']\n",
    "beer = beer[~beer.beer_style.isin(obscure_beers)]\n",
    "beer['mean_review'] = beer[['review_overall', 'review_palate', \n",
    "                            'review_aroma', 'review_taste', 'review_appearance']].mean(axis=1)"
   ]
  },
  {
   "cell_type": "code",
   "execution_count": 2,
   "metadata": {},
   "outputs": [],
   "source": [
    "def categoryDF(nameslist, beer):\n",
    "    \"\"\"\n",
    "    Create Reviews Dataframe for a given category to be pickled and included in the database\n",
    "\n",
    "    Parameters\n",
    "    ----------\n",
    "    nameslist: list of names to be grouped together to be considered one category of beer\n",
    "    beer: the BeerAdvocate dataset with obscure beers removed and mean review column added\n",
    "    Returns\n",
    "    -------\n",
    "    a pandas dataframe with columns \"beer_beerid\", \"beer_name\", \"beer_abv\", \"beer_style\", \"brewery_name\", \n",
    "    \"review_profilename\", \"mean_review\"    \n",
    "\n",
    "    \"\"\"\n",
    "    category = beer[beer.beer_style.isin(nameslist)]\n",
    "    countDF = category.groupby('review_profilename', axis=0).count()\n",
    "    countDF = countDF.loc[countDF['beer_beerid'] >= 15]\n",
    "    countDF = countDF.reset_index()\n",
    "    includednames = countDF['review_profilename']\n",
    "    finalDF = category[category['review_profilename'].isin(includednames)]\n",
    "    finalDF = finalDF[['beer_beerid', 'beer_name', 'beer_abv', 'beer_style', \n",
    "                      'brewery_name', 'review_profilename', 'mean_review']]\n",
    "    \n",
    "    return finalDF"
   ]
  },
  {
   "cell_type": "code",
   "execution_count": 20,
   "metadata": {},
   "outputs": [
    {
     "data": {
      "text/html": [
       "<div>\n",
       "<style scoped>\n",
       "    .dataframe tbody tr th:only-of-type {\n",
       "        vertical-align: middle;\n",
       "    }\n",
       "\n",
       "    .dataframe tbody tr th {\n",
       "        vertical-align: top;\n",
       "    }\n",
       "\n",
       "    .dataframe thead th {\n",
       "        text-align: right;\n",
       "    }\n",
       "</style>\n",
       "<table border=\"1\" class=\"dataframe\">\n",
       "  <thead>\n",
       "    <tr style=\"text-align: right;\">\n",
       "      <th></th>\n",
       "      <th>beer_beerid</th>\n",
       "      <th>beer_name</th>\n",
       "      <th>beer_abv</th>\n",
       "      <th>beer_style</th>\n",
       "      <th>brewery_name</th>\n",
       "      <th>review_profilename</th>\n",
       "      <th>mean_review</th>\n",
       "    </tr>\n",
       "  </thead>\n",
       "  <tbody>\n",
       "    <tr>\n",
       "      <th>2</th>\n",
       "      <td>48215</td>\n",
       "      <td>Black Horse Black Beer</td>\n",
       "      <td>6.5</td>\n",
       "      <td>Foreign / Export Stout</td>\n",
       "      <td>Vecchio Birraio</td>\n",
       "      <td>stcules</td>\n",
       "      <td>2.9</td>\n",
       "    </tr>\n",
       "    <tr>\n",
       "      <th>15</th>\n",
       "      <td>10789</td>\n",
       "      <td>Caldera Oatmeal Stout</td>\n",
       "      <td>7.2</td>\n",
       "      <td>Oatmeal Stout</td>\n",
       "      <td>Caldera Brewing Company</td>\n",
       "      <td>Beerandraiderfan</td>\n",
       "      <td>2.9</td>\n",
       "    </tr>\n",
       "    <tr>\n",
       "      <th>16</th>\n",
       "      <td>10789</td>\n",
       "      <td>Caldera Oatmeal Stout</td>\n",
       "      <td>7.2</td>\n",
       "      <td>Oatmeal Stout</td>\n",
       "      <td>Caldera Brewing Company</td>\n",
       "      <td>RedDiamond</td>\n",
       "      <td>2.1</td>\n",
       "    </tr>\n",
       "    <tr>\n",
       "      <th>273</th>\n",
       "      <td>21241</td>\n",
       "      <td>Cauldron Espresso Stout</td>\n",
       "      <td>NaN</td>\n",
       "      <td>American Stout</td>\n",
       "      <td>Caldera Brewing Company</td>\n",
       "      <td>RedDiamond</td>\n",
       "      <td>3.2</td>\n",
       "    </tr>\n",
       "    <tr>\n",
       "      <th>274</th>\n",
       "      <td>20818</td>\n",
       "      <td>Old Growth Imperial Stout</td>\n",
       "      <td>8.8</td>\n",
       "      <td>Russian Imperial Stout</td>\n",
       "      <td>Caldera Brewing Company</td>\n",
       "      <td>Derek</td>\n",
       "      <td>4.2</td>\n",
       "    </tr>\n",
       "  </tbody>\n",
       "</table>\n",
       "</div>"
      ],
      "text/plain": [
       "     beer_beerid                  beer_name  beer_abv              beer_style  \\\n",
       "2          48215     Black Horse Black Beer       6.5  Foreign / Export Stout   \n",
       "15         10789      Caldera Oatmeal Stout       7.2           Oatmeal Stout   \n",
       "16         10789      Caldera Oatmeal Stout       7.2           Oatmeal Stout   \n",
       "273        21241    Cauldron Espresso Stout       NaN          American Stout   \n",
       "274        20818  Old Growth Imperial Stout       8.8  Russian Imperial Stout   \n",
       "\n",
       "                brewery_name review_profilename  mean_review  \n",
       "2            Vecchio Birraio            stcules          2.9  \n",
       "15   Caldera Brewing Company   Beerandraiderfan          2.9  \n",
       "16   Caldera Brewing Company         RedDiamond          2.1  \n",
       "273  Caldera Brewing Company         RedDiamond          3.2  \n",
       "274  Caldera Brewing Company              Derek          4.2  "
      ]
     },
     "execution_count": 20,
     "metadata": {},
     "output_type": "execute_result"
    }
   ],
   "source": [
    "stoutnames = ['Foreign / Export Stout', 'Oatmeal Stout', 'American Stout', 'Russian Imperial Stout', \n",
    "'American Double / Imperial Stout', 'Irish Dry Stout', 'Milk / Sweet Stout', 'English Stout'] \n",
    "stout = categoryDF(stoutnames, beer)\n",
    "stout.head()\n",
    "\n",
    "#stout.isnull().sum().sum()\n",
    "#stout.to_pickle('../data/stout.pkl')"
   ]
  },
  {
   "cell_type": "code",
   "execution_count": 4,
   "metadata": {},
   "outputs": [],
   "source": [
    "porternames = ['American Porter', 'English Porter', 'Baltic Porter']\n",
    "porter = categoryDF(porternames, beer)\n",
    "porter.to_pickle('../data/porter.pkl')"
   ]
  },
  {
   "cell_type": "code",
   "execution_count": 3,
   "metadata": {},
   "outputs": [],
   "source": [
    "IPAnames = ['American Double / Imperial IPA', 'American IPA', 'English India Pale Ale (IPA)', 'Belgian IPA', \n",
    "            'American Black Ale', 'Belgian Dark Ale', 'Dubbel', 'Roggenbier', 'Scottish Ale', 'Winter Warmer']\n",
    "IPA = categoryDF(IPAnames, beer)\n",
    "IPA.to_pickle('../data/IPA.pkl')"
   ]
  },
  {
   "cell_type": "code",
   "execution_count": 4,
   "metadata": {},
   "outputs": [],
   "source": [
    "WheatAlenames = ['Hefeweizen', 'Dunkelweizen', 'Kristalweizen', 'Berliner Weissbier',\n",
    "                 'American Pale Wheat Ale', 'American Dark Wheat Ale', 'Witbier']\n",
    "WheatAle = categoryDF(WheatAlenames, beer)\n",
    "WheatAle.to_pickle('../data/WheatAle.pkl')"
   ]
  },
  {
   "cell_type": "code",
   "execution_count": 3,
   "metadata": {},
   "outputs": [],
   "source": [
    "PaleAlenames = ['American Amber / Red Ale', 'American Blonde Ale', 'American Pale Ale (APA)', 'Belgian Pale Ale',  \n",
    "                'Extra Special / Strong Bitter (ESB)', 'English Pale Ale', 'English Pale Mild Ale', 'Bière de Garde', \n",
    "                'Kölsch', 'Irish Red Ale', 'Saison / Farmhouse Ale', 'English Bitter']\n",
    "PaleAle = categoryDF(PaleAlenames, beer)\n",
    "PaleAle.to_pickle('../data/PaleAle.pkl')"
   ]
  },
  {
   "cell_type": "code",
   "execution_count": 4,
   "metadata": {},
   "outputs": [],
   "source": [
    "sournames = ['American Wild Ale', 'Faro', 'Lambic - Fruit', 'Lambic - Unblended',  'Gueuze', 'Gose', \n",
    "             'Flanders Red Ale', 'Flanders Oud Bruin']\n",
    "sour = categoryDF(sournames, beer)\n",
    "sour.to_pickle('../data/sour.pkl')"
   ]
  },
  {
   "cell_type": "code",
   "execution_count": 3,
   "metadata": {},
   "outputs": [],
   "source": [
    "StrongAlenames = ['American Barleywine', 'Quadrupel (Quad)', 'Belgian Strong Dark Ale', 'English Barleywine', \n",
    "                  'Belgian Strong Pale Ale', 'Scotch Ale / Wee Heavy', 'Old Ale', 'English Strong Ale', \n",
    "                  'American Strong Ale', 'Wheatwine', 'Tripel']\n",
    "StrongAle = categoryDF(StrongAlenames, beer)\n",
    "StrongAle.to_pickle('../data/StrongAle.pkl')"
   ]
  },
  {
   "cell_type": "code",
   "execution_count": 4,
   "metadata": {},
   "outputs": [],
   "source": [
    "pilsnernames = ['American Adjunct Lager', 'American Double / Imperial Pilsner', 'American Pale Lager', 'Light Lager', \n",
    "                'American Malt Liquor', 'German Pilsener', 'Keller Bier / Zwickel Bier', 'Munich Helles Lager', \n",
    "                'Euro Strong Lager', 'Euro Pale Lager', 'Czech Pilsener', 'Dortmunder / Export Lager']\n",
    "pilsner = categoryDF(pilsnernames, beer)\n",
    "pilsner.to_pickle('../data/pilsner.pkl')"
   ]
  },
  {
   "cell_type": "code",
   "execution_count": 5,
   "metadata": {},
   "outputs": [],
   "source": [
    "dlagernames = ['Rauchbier', 'Märzen / Oktoberfest', 'Schwarzbier', 'Vienna Lager', 'Munich Dunkel Lager', \n",
    "               'Euro Dark Lager',  'American Amber / Red Lager', 'Doppelbock', 'Weizenbock', 'Bock', 'Eisbock', \n",
    "               'Maibock / Helles Bock']\n",
    "darklager = categoryDF(dlagernames, beer)\n",
    "darklager.to_pickle('../data/darklager.pkl')"
   ]
  },
  {
   "cell_type": "code",
   "execution_count": 6,
   "metadata": {},
   "outputs": [],
   "source": [
    "BrownAlenames = ['English Brown Ale', 'Altbier', 'English Dark Mild Ale',\n",
    "       'American Brown Ale']\n",
    "BrownAle = categoryDF(BrownAlenames, beer)\n",
    "BrownAle.to_pickle('../data/BrownAle.pkl')"
   ]
  }
 ],
 "metadata": {
  "kernelspec": {
   "display_name": "Python 3",
   "language": "python",
   "name": "python3"
  },
  "language_info": {
   "codemirror_mode": {
    "name": "ipython",
    "version": 3
   },
   "file_extension": ".py",
   "mimetype": "text/x-python",
   "name": "python",
   "nbconvert_exporter": "python",
   "pygments_lexer": "ipython3",
   "version": "3.7.1"
  }
 },
 "nbformat": 4,
 "nbformat_minor": 2
}

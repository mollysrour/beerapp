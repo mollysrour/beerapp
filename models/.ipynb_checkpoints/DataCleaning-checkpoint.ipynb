{
 "cells": [
  {
   "cell_type": "code",
   "execution_count": 1,
   "metadata": {},
   "outputs": [],
   "source": [
    "import pandas as pd\n",
    "from scipy.sparse import csr_matrix\n",
    "beer = pd.read_csv('beer_reviews.csv')\n",
    "obscure_beers = ['Black & Tan', 'Chile Beer', 'Sahti', 'Fruit / Vegetable Beer', \n",
    "                 'Herbed / Spiced Beer', 'Happoshu', 'Low Alcohol Beer', 'Pumpkin Ale', \n",
    "                 'Kvass', 'Rye Beer', 'Smoked Beer', 'Scottish Gruit / Ancient Herbed Ale', \n",
    "                 'Braggot', 'Bière de Champagne / Bière Brut', 'Cream Ale', 'California Common / Steam Beer',\n",
    "                'Japanese Rice Lager']\n",
    "beer = beer[~beer.beer_style.isin(obscure_beers)]\n",
    "beer['mean_review'] = beer[['review_overall', 'review_palate', \n",
    "                            'review_aroma', 'review_taste', 'review_appearance']].mean(axis=1)"
   ]
  },
  {
   "cell_type": "code",
   "execution_count": 2,
   "metadata": {},
   "outputs": [],
   "source": [
    "def categoryDF(nameslist, beer):\n",
    "    \"\"\"\n",
    "    Create Reviews Dataframe for a given category to be pickled and included in the database\n",
    "\n",
    "    Parameters\n",
    "    ----------\n",
    "    nameslist: list of names to be grouped together to be considered one category of beer\n",
    "    beer: the BeerAdvocate dataset with obscure beers removed and mean review column added\n",
    "    Returns\n",
    "    -------\n",
    "    a pandas dataframe with columns \"beer_beerid\", \"beer_name\", \"beer_abv\", \"beer_style\", \"brewery_name\", \n",
    "    \"review_profilename\", \"mean_review\"    \n",
    "\n",
    "    \"\"\"\n",
    "    category = beer[beer.beer_style.isin(nameslist)]\n",
    "    countDF = category.groupby('review_profilename', axis=0).count()\n",
    "    countDF = countDF.loc[countDF['beer_beerid'] >= 15]\n",
    "    countDF = countDF.reset_index()\n",
    "    includednames = countDF['review_profilename']\n",
    "    finalDF = category[category['review_profilename'].isin(includednames)]\n",
    "    finalDF = finalDF[['beer_beerid', 'beer_name', 'beer_abv', 'beer_style', \n",
    "                      'brewery_name', 'review_profilename', 'mean_review']]\n",
    "    \n",
    "    return finalDF"
   ]
  },
  {
   "cell_type": "code",
   "execution_count": 3,
   "metadata": {},
   "outputs": [],
   "source": [
    "stoutnames = ['Foreign / Export Stout', 'Oatmeal Stout', 'American Stout', 'Russian Imperial Stout', \n",
    "'American Double / Imperial Stout', 'Irish Dry Stout', 'Milk / Sweet Stout', 'English Stout'] \n",
    "stout = categoryDF(stoutnames, beer)\n",
    "stout.to_pickle('../data/stout.pkl')"
   ]
  },
  {
   "cell_type": "code",
   "execution_count": 4,
   "metadata": {},
   "outputs": [],
   "source": [
    "porternames = ['American Porter', 'English Porter', 'Baltic Porter']\n",
    "porter = categoryDF(porternames, beer)\n",
    "porter.to_pickle('../data/porter.pkl')"
   ]
  },
  {
   "cell_type": "code",
   "execution_count": 3,
   "metadata": {},
   "outputs": [],
   "source": [
    "IPAnames = ['American Double / Imperial IPA', 'American IPA', 'English India Pale Ale (IPA)', 'Belgian IPA', \n",
    "            'American Black Ale', 'Belgian Dark Ale', 'Dubbel', 'Roggenbier', 'Scottish Ale', 'Winter Warmer']\n",
    "IPA = categoryDF(IPAnames, beer)\n",
    "IPA.to_pickle('../data/IPA.pkl')"
   ]
  },
  {
   "cell_type": "code",
   "execution_count": 4,
   "metadata": {},
   "outputs": [],
   "source": [
    "WheatAlenames = ['Hefeweizen', 'Dunkelweizen', 'Kristalweizen', 'Berliner Weissbier',\n",
    "                 'American Pale Wheat Ale', 'American Dark Wheat Ale', 'Witbier']\n",
    "WheatAle = categoryDF(WheatAlenames, beer)\n",
    "WheatAle.to_pickle('../data/WheatAle.pkl')"
   ]
  },
  {
   "cell_type": "code",
   "execution_count": 3,
   "metadata": {},
   "outputs": [],
   "source": [
    "PaleAlenames = ['American Amber / Red Ale', 'American Blonde Ale', 'American Pale Ale (APA)', 'Belgian Pale Ale',  \n",
    "                'Extra Special / Strong Bitter (ESB)', 'English Pale Ale', 'English Pale Mild Ale', 'Bière de Garde', \n",
    "                'Kölsch', 'Irish Red Ale', 'Saison / Farmhouse Ale', 'English Bitter']\n",
    "PaleAle = categoryDF(PaleAlenames, beer)\n",
    "PaleAle.to_pickle('../data/PaleAle.pkl')"
   ]
  },
  {
   "cell_type": "code",
   "execution_count": 4,
   "metadata": {},
   "outputs": [],
   "source": [
    "sournames = ['American Wild Ale', 'Faro', 'Lambic - Fruit', 'Lambic - Unblended',  'Gueuze', 'Gose', \n",
    "             'Flanders Red Ale', 'Flanders Oud Bruin']\n",
    "sour = categoryDF(sournames, beer)\n",
    "sour.to_pickle('../data/sour.pkl')"
   ]
  },
  {
   "cell_type": "code",
   "execution_count": 3,
   "metadata": {},
   "outputs": [],
   "source": [
    "StrongAlenames = ['American Barleywine', 'Quadrupel (Quad)', 'Belgian Strong Dark Ale', 'English Barleywine', \n",
    "                  'Belgian Strong Pale Ale', 'Scotch Ale / Wee Heavy', 'Old Ale', 'English Strong Ale', \n",
    "                  'American Strong Ale', 'Wheatwine', 'Tripel']\n",
    "StrongAle = categoryDF(StrongAlenames, beer)\n",
    "StrongAle.to_pickle('../data/StrongAle.pkl')"
   ]
  },
  {
   "cell_type": "code",
   "execution_count": 4,
   "metadata": {},
   "outputs": [],
   "source": [
    "pilsnernames = ['American Adjunct Lager', 'American Double / Imperial Pilsner', 'American Pale Lager', 'Light Lager', \n",
    "                'American Malt Liquor', 'German Pilsener', 'Keller Bier / Zwickel Bier', 'Munich Helles Lager', \n",
    "                'Euro Strong Lager', 'Euro Pale Lager', 'Czech Pilsener', 'Dortmunder / Export Lager']\n",
    "pilsner = categoryDF(pilsnernames, beer)\n",
    "pilsner.to_pickle('../data/pilsner.pkl')"
   ]
  },
  {
   "cell_type": "code",
   "execution_count": 5,
   "metadata": {},
   "outputs": [],
   "source": [
    "dlagernames = ['Rauchbier', 'Märzen / Oktoberfest', 'Schwarzbier', 'Vienna Lager', 'Munich Dunkel Lager', \n",
    "               'Euro Dark Lager',  'American Amber / Red Lager', 'Doppelbock', 'Weizenbock', 'Bock', 'Eisbock', \n",
    "               'Maibock / Helles Bock']\n",
    "darklager = categoryDF(dlagernames, beer)\n",
    "darklager.to_pickle('../data/darklager.pkl')"
   ]
  },
  {
   "cell_type": "code",
   "execution_count": 6,
   "metadata": {},
   "outputs": [],
   "source": [
    "BrownAlenames = ['English Brown Ale', 'Altbier', 'English Dark Mild Ale',\n",
    "       'American Brown Ale']\n",
    "BrownAle = categoryDF(BrownAlenames, beer)\n",
    "BrownAle.to_pickle('../data/BrownAle.pkl')"
   ]
  }
 ],
 "metadata": {
  "kernelspec": {
   "display_name": "Python 3",
   "language": "python",
   "name": "python3"
  },
  "language_info": {
   "codemirror_mode": {
    "name": "ipython",
    "version": 3
   },
   "file_extension": ".py",
   "mimetype": "text/x-python",
   "name": "python",
   "nbconvert_exporter": "python",
   "pygments_lexer": "ipython3",
   "version": "3.7.1"
  }
 },
 "nbformat": 4,
 "nbformat_minor": 2
}
